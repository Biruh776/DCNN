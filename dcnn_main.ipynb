{
 "cells": [
  {
   "cell_type": "code",
   "execution_count": 1,
   "id": "4a44df40",
   "metadata": {},
   "outputs": [],
   "source": [
    "import numpy as np\n",
    "import matplotlib.pyplot as plt\n",
    "import torch\n",
    "import torch.nn as nn"
   ]
  },
  {
   "cell_type": "code",
   "execution_count": 2,
   "id": "cbe56b75",
   "metadata": {},
   "outputs": [],
   "source": [
    "# Ignore warnings\n",
    "import warnings\n",
    "warnings.filterwarnings('ignore')"
   ]
  },
  {
   "cell_type": "code",
   "execution_count": 3,
   "id": "23993b57",
   "metadata": {},
   "outputs": [],
   "source": [
    "# Load data\n",
    "X = np.load('X.npy')\n",
    "y = np.load('y.npy')\n",
    "X_new = np.load('X_new.npy')\n",
    "y_new = np.load('y_new.npy')\n",
    "\n",
    "X = np.reshape(X, (120, 1, 10000))\n",
    "X_new = np.reshape(X_new, (30, 1, 10000))"
   ]
  },
  {
   "cell_type": "code",
   "execution_count": 4,
   "id": "18572a2e",
   "metadata": {},
   "outputs": [
    {
     "data": {
      "text/plain": [
       "((120, 1, 10000), (120,), (30, 1, 10000), (30,))"
      ]
     },
     "execution_count": 4,
     "metadata": {},
     "output_type": "execute_result"
    }
   ],
   "source": [
    "X.shape, y.shape, X_new.shape, y_new.shape"
   ]
  },
  {
   "cell_type": "code",
   "execution_count": 5,
   "id": "df9c4ca4",
   "metadata": {},
   "outputs": [],
   "source": [
    "# Convert to tensors\n",
    "X = torch.from_numpy(X).type(torch.float)\n",
    "y = torch.from_numpy(y).type(torch.LongTensor)\n",
    "X_new = torch.from_numpy(X_new).type(torch.float)\n",
    "y_new = torch.from_numpy(y_new).type(torch.LongTensor)"
   ]
  },
  {
   "cell_type": "code",
   "execution_count": 6,
   "id": "56b5073b",
   "metadata": {},
   "outputs": [
    {
     "data": {
      "text/plain": [
       "(96, 24, 96, 24)"
      ]
     },
     "execution_count": 6,
     "metadata": {},
     "output_type": "execute_result"
    }
   ],
   "source": [
    "# Split into training and testing datasets\n",
    "from sklearn.model_selection import train_test_split\n",
    "X_train, X_test, y_train, y_test = train_test_split(X, \n",
    "                                                    y,\n",
    "                                                    test_size=0.2, # 0.2 = 20% of data will be test & 80% will be train\n",
    "                                                    random_state=42) \n",
    "\n",
    "len(X_train), len(X_test), len(y_train), len(y_test)"
   ]
  },
  {
   "cell_type": "code",
   "execution_count": 7,
   "id": "58e95ec8",
   "metadata": {},
   "outputs": [],
   "source": [
    "# Set up device diagnostic code\n",
    "device = \"cpu\" if torch.cuda.is_available() else \"cpu\""
   ]
  },
  {
   "cell_type": "code",
   "execution_count": 8,
   "id": "6e0a6c7a",
   "metadata": {},
   "outputs": [],
   "source": [
    "# Build a DNN model\n",
    "class ConvModelV0(nn.Module):\n",
    "    def __init__(self,in_shape, hidden_shape, out_shape):\n",
    "        super().__init__()\n",
    "        self.conv_block_1 = nn.Sequential(\n",
    "            nn.Conv1d(in_channels = in_shape,\n",
    "                      out_channels = hidden_shape,\n",
    "                      kernel_size = 124,\n",
    "                      stride = 16,\n",
    "                      padding = 2),\n",
    "            nn.BatchNorm1d(hidden_shape),\n",
    "            nn.ReLU(),\n",
    "            nn.MaxPool1d(kernel_size = 2, stride = 2))\n",
    "        \n",
    "        self.conv_block_2 = nn.Sequential(\n",
    "            nn.Conv1d(in_channels = hidden_shape,\n",
    "                      out_channels = hidden_shape,\n",
    "                      kernel_size = 6,\n",
    "                      stride = 1,\n",
    "                      padding = 1),\n",
    "            nn.BatchNorm1d(hidden_shape),\n",
    "            nn.ReLU(),\n",
    "            nn.MaxPool1d(kernel_size = 2, stride = 2))\n",
    "        \n",
    "        self.conv_block_3 = nn.Sequential(\n",
    "            nn.Conv1d(in_channels = hidden_shape,\n",
    "                      out_channels = hidden_shape,\n",
    "                      kernel_size = 3,\n",
    "                      stride = 1,\n",
    "                      padding = 1),\n",
    "            nn.BatchNorm1d(hidden_shape),\n",
    "            nn.ReLU(),\n",
    "            nn.MaxPool1d(kernel_size = 2, stride = 2))\n",
    "    \n",
    "        self.dense_block = nn.Sequential(\n",
    "            nn.Flatten(),\n",
    "            nn.Dropout(p=0.5),\n",
    "            nn.Linear(in_features =760,\n",
    "                     out_features = 64),\n",
    "            nn.ReLU(),\n",
    "            nn.Linear(in_features = 64,\n",
    "                     out_features = out_shape))\n",
    "        \n",
    "        self.softmax = nn.Softmax(dim=1)\n",
    "        \n",
    "    def forward(self, x):\n",
    "        x = self.conv_block_1(x)\n",
    "        x = self.conv_block_2(x)\n",
    "        x = self.conv_block_3(x)\n",
    "        x = self.dense_block(x)\n",
    "        x = self.softmax(x)\n",
    "        return x   "
   ]
  },
  {
   "cell_type": "code",
   "execution_count": 9,
   "id": "09e536f5",
   "metadata": {},
   "outputs": [],
   "source": [
    "# Create a model\n",
    "torch.manual_seed(42)\n",
    "model0 = ConvModelV0(in_shape=1, hidden_shape = 10, out_shape = 3).to(device)"
   ]
  },
  {
   "cell_type": "code",
   "execution_count": 10,
   "id": "ca48244b",
   "metadata": {
    "scrolled": true
   },
   "outputs": [
    {
     "data": {
      "text/plain": [
       "torch.float32"
      ]
     },
     "execution_count": 10,
     "metadata": {},
     "output_type": "execute_result"
    }
   ],
   "source": [
    "model0(X_train[2].unsqueeze(0)).dtype"
   ]
  },
  {
   "cell_type": "code",
   "execution_count": 11,
   "id": "e2461c27-00fd-4b7b-9fad-424fa9c602ea",
   "metadata": {},
   "outputs": [
    {
     "data": {
      "text/plain": [
       "torch.Size([1, 1, 10000])"
      ]
     },
     "execution_count": 11,
     "metadata": {},
     "output_type": "execute_result"
    }
   ],
   "source": [
    "X_train[2].unsqueeze(0).shape"
   ]
  },
  {
   "cell_type": "code",
   "execution_count": 12,
   "id": "32208db4",
   "metadata": {},
   "outputs": [],
   "source": [
    "# Set up a loss function and an optimizer\n",
    "loss_fn = nn.CrossEntropyLoss()\n",
    "optimizer = torch.optim.SGD(model0.parameters(), lr = 0.0001)\n",
    "\n",
    "# Set up an accuracy metric\n",
    "from torchmetrics import Accuracy\n",
    "accuracy_metric = Accuracy(task = 'multiclass', num_classes=3).to(device)"
   ]
  },
  {
   "cell_type": "code",
   "execution_count": 13,
   "id": "f9a28308",
   "metadata": {},
   "outputs": [],
   "source": [
    "# Create Dataloaders\n",
    "from torch.utils.data import TensorDataset, DataLoader\n",
    "\n",
    "# Define your batch size\n",
    "batch_size = 8\n",
    "\n",
    "# Create training and testing datasets\n",
    "train_dataset = TensorDataset(X_train, y_train)\n",
    "test_dataset = TensorDataset(X_test, y_test)\n",
    "\n",
    "# Create training and testing data loaders\n",
    "train_dataloader = DataLoader(train_dataset, batch_size=batch_size, shuffle=True)\n",
    "test_dataloader = DataLoader(test_dataset, batch_size=batch_size)"
   ]
  },
  {
   "cell_type": "code",
   "execution_count": 14,
   "id": "578a2808",
   "metadata": {},
   "outputs": [],
   "source": [
    "# Training Function\n",
    "def train_model(model, dataloader, loss_fn, accuracy_metric, device):\n",
    "    train_acc, train_loss = 0, 0\n",
    "    for batch, (X, y) in enumerate(dataloader):\n",
    "        \n",
    "        X, y = X.to(device), y.to(device)\n",
    "        \n",
    "        y_pred = model(X)\n",
    "        \n",
    "        loss = loss_fn(y_pred, y)\n",
    "        train_loss += loss\n",
    "        train_acc += accuracy_metric(y_pred.argmax(dim=1), y)\n",
    "        \n",
    "        optimizer.zero_grad()\n",
    "        loss.backward()\n",
    "        optimizer.step()\n",
    "        \n",
    "    train_loss /= len(dataloader)\n",
    "    train_acc /= len(dataloader)\n",
    "    \n",
    "    print(f\"Training Loss: {train_loss:6.2f} | Training Accuracy: {train_acc*100:6.2f}%,\", end=' ')\n",
    "    return train_loss, train_acc\n",
    "\n",
    "# Testing function\n",
    "def test_model(model, dataloader, loss_fn, accuracy_metric, device):\n",
    "    test_loss, acc = 0, 0\n",
    "    with torch.inference_mode():\n",
    "        for X_test, y_test in dataloader:\n",
    "            X_test, y_test = X_test.to(device), y_test.to(device)\n",
    "            y_pred_test = model(X_test)\n",
    "\n",
    "            test_loss += loss_fn(y_pred_test, y_test)\n",
    "            acc += accuracy_metric(y_pred_test.argmax(dim=1), y_test)\n",
    "\n",
    "        test_loss /= len(dataloader)\n",
    "        acc /= len(dataloader)\n",
    "        \n",
    "    print(f\"Testing Loss: {test_loss:6.2f} | Test Accuracy: {acc*100:6.2f}%\")\n",
    "    return test_loss, acc"
   ]
  },
  {
   "cell_type": "code",
   "execution_count": 15,
   "id": "48a1498e",
   "metadata": {},
   "outputs": [],
   "source": [
    "# Model performance evaluator\n",
    "torch.manual_seed(42)\n",
    "\n",
    "def eval_model(model, dataloader, loss_fn, acc_fn, device):\n",
    "    loss, acc = 0, 0\n",
    "    model.eval()\n",
    "    with torch.inference_mode():\n",
    "        for X, y in tqdm(dataloader):\n",
    "            X, y = X.to(device), y.to(device)\n",
    "            y_preds = model(X)\n",
    "            \n",
    "            loss += loss_fn(y_preds, y)\n",
    "            acc += acc_fn(y_preds.argmax(dim=1), y)\n",
    "            \n",
    "        loss /= len(dataloader)\n",
    "        acc /= len(dataloader)\n",
    "        \n",
    "    return loss, acc"
   ]
  },
  {
   "cell_type": "code",
   "execution_count": 16,
   "id": "5fcb1a7a",
   "metadata": {},
   "outputs": [],
   "source": [
    "# Timing our experiments\n",
    "from timeit import default_timer as timer\n",
    "\n",
    "def print_training_time(start, end, device=None):\n",
    "    total_time = end - start\n",
    "    print(f\"\\n The training time on {device} is {total_time:.2f} seconds\")\n",
    "    return total_time"
   ]
  },
  {
   "cell_type": "code",
   "execution_count": 17,
   "id": "baa7ab83",
   "metadata": {},
   "outputs": [
    {
     "name": "stdout",
     "output_type": "stream",
     "text": [
      "\n",
      " Epoch: 0\n",
      "----------\n",
      "Training Loss:   1.09 | Training Accuracy:  29.17%, Testing Loss:   1.09 | Test Accuracy:  50.00%\n",
      "\n",
      " The training time on cpu is 0.12 seconds\n"
     ]
    }
   ],
   "source": [
    "# Training a CNN model\n",
    "\n",
    "train_loss_history = []\n",
    "train_accuracy_history = []\n",
    "test_loss_history = []\n",
    "test_accuracy_history = []\n",
    "\n",
    "start_time = timer()\n",
    "epochs = 1\n",
    "\n",
    "for epoch in range(epochs):\n",
    "    print(f\"\\n Epoch: {epoch}\\n----------\")\n",
    "    model0.train()\n",
    "    train_loss, train_acc = train_model(model=model0,\n",
    "                                       dataloader=train_dataloader,\n",
    "                                       loss_fn=loss_fn,\n",
    "                                       accuracy_metric=accuracy_metric,\n",
    "                                       device=device)\n",
    "\n",
    "    model0.eval()\n",
    "    test_loss, test_acc = test_model(model=model0,\n",
    "                           dataloader=test_dataloader,\n",
    "                           loss_fn=loss_fn,\n",
    "                           accuracy_metric=accuracy_metric,\n",
    "                           device=device)\n",
    "    \n",
    "    train_loss_history.append(train_loss.detach().numpy())\n",
    "    train_accuracy_history.append(train_acc.detach().numpy())\n",
    "    test_loss_history.append(test_loss.detach().numpy())\n",
    "    test_accuracy_history.append(test_acc.detach().numpy())\n",
    "\n",
    "end_time = timer()\n",
    "# Print experiment duration\n",
    "cnn_training_time = print_training_time(start=start_time,\n",
    "                                       end=end_time,\n",
    "                                       device=device)"
   ]
  },
  {
   "cell_type": "code",
   "execution_count": 18,
   "id": "0f6db9a2",
   "metadata": {},
   "outputs": [],
   "source": [
    "# Plot metrics\n",
    "def plot_metrics(train_loss_history,\n",
    "                 train_accuracy_history,\n",
    "                 test_loss_history,\n",
    "                 test_accuracy_history):\n",
    "    font = {'family': 'Times New Roman', 'size': 16}\n",
    "    plt.rc('font', **font)\n",
    "    plt.figure(figsize=(20, 6))\n",
    "    plt.subplot(1, 2, 1)\n",
    "    plt.plot(train_loss_history, label='Training Loss', linewidth = 1, color = 'red')\n",
    "    plt.plot(test_loss_history, label='Testing Loss', linewidth = 1, color = 'blue')\n",
    "    plt.xlabel('Epoch')\n",
    "    plt.ylabel('Loss')\n",
    "    plt.title('Training Loss and Testing Loss')\n",
    "    plt.legend()\n",
    "\n",
    "    plt.subplot(1, 2, 2)\n",
    "    plt.plot(train_accuracy_history, label='Training Accuracy', linewidth = 1, color = 'red')\n",
    "    plt.plot(test_accuracy_history, label='Testing Accuracy', linewidth = 1, color = 'blue')\n",
    "    plt.xlabel('Epoch')\n",
    "    plt.ylabel('Accuracy')\n",
    "    plt.title('Training Accuracy and Testing Accuracy')\n",
    "    plt.legend()\n",
    "    plt.savefig(\"output_figure.png\", dpi=100)\n",
    "    plt.show()\n",
    "    "
   ]
  },
  {
   "cell_type": "code",
   "execution_count": 19,
   "id": "a0a22836-5e25-473b-a7f1-9d3f11886ad7",
   "metadata": {},
   "outputs": [],
   "source": [
    "# from scipy.signal import savgol_filter, gaussian\n",
    "\n",
    "# window_size = 9  # Must be an odd number\n",
    "# poly_order = 3\n",
    "\n",
    "# train_loss_smooth = savgol_filter(train_loss_history, window_size, poly_order)\n",
    "# train_accuracy_smooth = savgol_filter(train_accuracy_history, window_size, poly_order)"
   ]
  },
  {
   "cell_type": "code",
   "execution_count": 20,
   "id": "de2a2afb-160e-4c75-8b50-dbb6c93cf41a",
   "metadata": {},
   "outputs": [],
   "source": [
    "signal = [a + b for a,b in zip(train_loss_history, test_loss_history)]"
   ]
  },
  {
   "cell_type": "code",
   "execution_count": 21,
   "id": "35210eab-bb80-41a0-b947-f12df1ad33ae",
   "metadata": {},
   "outputs": [],
   "source": [
    "signal_np = np.array(signal)"
   ]
  },
  {
   "cell_type": "code",
   "execution_count": 22,
   "id": "608f7e75-36db-4583-a082-d08fd30e8d22",
   "metadata": {},
   "outputs": [],
   "source": [
    "signal_np = abs(signal_np - signal_np.max())"
   ]
  },
  {
   "cell_type": "code",
   "execution_count": 23,
   "id": "c27f8ef7-5516-488b-8fae-bcd17aa221ba",
   "metadata": {},
   "outputs": [
    {
     "data": {
      "text/plain": [
       "0.0"
      ]
     },
     "execution_count": 23,
     "metadata": {},
     "output_type": "execute_result"
    }
   ],
   "source": [
    "signal_np.max()"
   ]
  },
  {
   "cell_type": "code",
   "execution_count": 24,
   "id": "bfabeb3d",
   "metadata": {},
   "outputs": [],
   "source": [
    "# plot_metrics(train_loss_history,\n",
    "#              train_accuracy_smooth,\n",
    "#              test_loss_history,\n",
    "#              test_accuracy_history)"
   ]
  },
  {
   "cell_type": "code",
   "execution_count": 25,
   "id": "451a8528",
   "metadata": {},
   "outputs": [],
   "source": [
    "# # Save model\n",
    "# from pathlib import Path\n",
    "\n",
    "# save_path = Path(\"Models\")\n",
    "# save_path.mkdir(parents=True, exist_ok=True)\n",
    "# model = model0\n",
    "\n",
    "# model_filename = \"model0.pth\"  # Adjust the filename as needed\n",
    "# model_path = save_path / model_filename\n",
    "# torch.save(model.state_dict(), model_path)\n",
    "\n",
    "# print(f\"Model saved to {model_path}\")"
   ]
  },
  {
   "cell_type": "code",
   "execution_count": 26,
   "id": "689efa22",
   "metadata": {},
   "outputs": [],
   "source": [
    "# # Load model\n",
    "# model0_loaded = ConvModelV0(in_shape=1, hidden_shape = 100, out_shape = 3)\n",
    "# model0_loaded.load_state_dict(torch.load(\"Models/model0.pth\"))"
   ]
  },
  {
   "cell_type": "code",
   "execution_count": 27,
   "id": "ce5fd6da-cd2e-4014-ab7b-dfa6de599ae1",
   "metadata": {},
   "outputs": [
    {
     "data": {
      "text/plain": [
       "==========================================================================================\n",
       "Layer (type:depth-idx)                   Output Shape              Param #\n",
       "==========================================================================================\n",
       "ConvModelV0                              [8, 3]                    --\n",
       "├─Sequential: 1-1                        [8, 10, 309]              --\n",
       "│    └─Conv1d: 2-1                       [8, 10, 618]              1,250\n",
       "│    └─BatchNorm1d: 2-2                  [8, 10, 618]              20\n",
       "│    └─ReLU: 2-3                         [8, 10, 618]              --\n",
       "│    └─MaxPool1d: 2-4                    [8, 10, 309]              --\n",
       "├─Sequential: 1-2                        [8, 10, 153]              --\n",
       "│    └─Conv1d: 2-5                       [8, 10, 306]              610\n",
       "│    └─BatchNorm1d: 2-6                  [8, 10, 306]              20\n",
       "│    └─ReLU: 2-7                         [8, 10, 306]              --\n",
       "│    └─MaxPool1d: 2-8                    [8, 10, 153]              --\n",
       "├─Sequential: 1-3                        [8, 10, 76]               --\n",
       "│    └─Conv1d: 2-9                       [8, 10, 153]              310\n",
       "│    └─BatchNorm1d: 2-10                 [8, 10, 153]              20\n",
       "│    └─ReLU: 2-11                        [8, 10, 153]              --\n",
       "│    └─MaxPool1d: 2-12                   [8, 10, 76]               --\n",
       "├─Sequential: 1-4                        [8, 3]                    --\n",
       "│    └─Flatten: 2-13                     [8, 760]                  --\n",
       "│    └─Dropout: 2-14                     [8, 760]                  --\n",
       "│    └─Linear: 2-15                      [8, 64]                   48,704\n",
       "│    └─ReLU: 2-16                        [8, 64]                   --\n",
       "│    └─Linear: 2-17                      [8, 3]                    195\n",
       "├─Softmax: 1-5                           [8, 3]                    --\n",
       "==========================================================================================\n",
       "Total params: 51,129\n",
       "Trainable params: 51,129\n",
       "Non-trainable params: 0\n",
       "Total mult-adds (M): 8.44\n",
       "==========================================================================================\n",
       "Input size (MB): 0.32\n",
       "Forward/backward pass size (MB): 1.38\n",
       "Params size (MB): 0.20\n",
       "Estimated Total Size (MB): 1.91\n",
       "=========================================================================================="
      ]
     },
     "execution_count": 27,
     "metadata": {},
     "output_type": "execute_result"
    }
   ],
   "source": [
    "from torchinfo import summary\n",
    "model = ConvModelV0(in_shape=1, hidden_shape = 10, out_shape = 3)\n",
    "batch_size = 8\n",
    "summary(model, input_size=(batch_size, 1, 10000))"
   ]
  },
  {
   "cell_type": "code",
   "execution_count": null,
   "id": "9b5d2744-a170-4249-a9d0-7578503ca3bd",
   "metadata": {},
   "outputs": [],
   "source": []
  }
 ],
 "metadata": {
  "kernelspec": {
   "display_name": "Python 3 (ipykernel)",
   "language": "python",
   "name": "python3"
  },
  "language_info": {
   "codemirror_mode": {
    "name": "ipython",
    "version": 3
   },
   "file_extension": ".py",
   "mimetype": "text/x-python",
   "name": "python",
   "nbconvert_exporter": "python",
   "pygments_lexer": "ipython3",
   "version": "3.10.12"
  }
 },
 "nbformat": 4,
 "nbformat_minor": 5
}
