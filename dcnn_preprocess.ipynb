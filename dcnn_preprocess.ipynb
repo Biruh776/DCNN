{
 "cells": [
  {
   "cell_type": "markdown",
   "id": "e0582e2e",
   "metadata": {},
   "source": [
    "#### Preprocess data"
   ]
  },
  {
   "cell_type": "code",
   "execution_count": 1,
   "id": "4d6bb63c",
   "metadata": {},
   "outputs": [],
   "source": [
    "import numpy as np\n",
    "import pandas as pd\n",
    "import matplotlib.pyplot as plt"
   ]
  },
  {
   "cell_type": "markdown",
   "id": "959f86c7",
   "metadata": {},
   "source": [
    "Preprocess train data"
   ]
  },
  {
   "cell_type": "code",
   "execution_count": 24,
   "id": "37421e5c",
   "metadata": {},
   "outputs": [],
   "source": [
    "path = \"Raw_csv/OD.csv\"\n",
    "col = ['vib']\n",
    "df = pd.read_csv(path, names=col)\n",
    "\n",
    "df_nump = df.values\n",
    "val = df_nump.reshape((10, 10000))"
   ]
  },
  {
   "cell_type": "code",
   "execution_count": 25,
   "id": "4a9d60df",
   "metadata": {},
   "outputs": [
    {
     "data": {
      "text/plain": [
       "(120, 10000)"
      ]
     },
     "execution_count": 25,
     "metadata": {},
     "output_type": "execute_result"
    }
   ],
   "source": [
    "stacked_train = np.vstack((stacked_train, val))\n",
    "stacked_train.shape"
   ]
  },
  {
   "cell_type": "code",
   "execution_count": 26,
   "id": "822486de",
   "metadata": {},
   "outputs": [],
   "source": [
    "X = stacked_train\n",
    "X_file = 'X.npy'\n",
    "np.save(X_file, X)"
   ]
  },
  {
   "cell_type": "code",
   "execution_count": 47,
   "id": "08fba694",
   "metadata": {},
   "outputs": [
    {
     "data": {
      "text/plain": [
       "(120, 10000)"
      ]
     },
     "execution_count": 47,
     "metadata": {},
     "output_type": "execute_result"
    }
   ],
   "source": [
    "X = stacked_train\n",
    "X.shape"
   ]
  },
  {
   "cell_type": "code",
   "execution_count": 27,
   "id": "c78fcedf",
   "metadata": {},
   "outputs": [],
   "source": [
    "# Create the label array\n",
    "labels_train = np.concatenate((np.ones(10)*0, np.ones(10)*1,np.ones(10)*2,np.ones(10)*0,np.ones(10)*1,np.ones(10)*2,\n",
    "                                  np.ones(10)*0,np.ones(10)*1,np.ones(10)*2,np.ones(10)*0,np.ones(10)*1,np.ones(10)*2,))\n"
   ]
  },
  {
   "cell_type": "code",
   "execution_count": 28,
   "id": "f8beed3c",
   "metadata": {},
   "outputs": [],
   "source": [
    "y = labels_train\n",
    "y_file = 'y.npy'\n",
    "np.save(y_file, y)"
   ]
  },
  {
   "cell_type": "markdown",
   "id": "8f919e25",
   "metadata": {},
   "source": [
    "Preprocess test data"
   ]
  },
  {
   "cell_type": "code",
   "execution_count": 33,
   "id": "7a4d1bec",
   "metadata": {},
   "outputs": [],
   "source": [
    "path = \"Raw_csv/ExpO.csv\"\n",
    "col = ['vib']\n",
    "df = pd.read_csv(path, names=col)\n",
    "\n",
    "df_nump = df.values\n",
    "val = df_nump.reshape((10, 10000))"
   ]
  },
  {
   "cell_type": "code",
   "execution_count": 34,
   "id": "1e7c4e0e",
   "metadata": {},
   "outputs": [
    {
     "data": {
      "text/plain": [
       "(30, 10000)"
      ]
     },
     "execution_count": 34,
     "metadata": {},
     "output_type": "execute_result"
    }
   ],
   "source": [
    "stacked_new = np.vstack((stacked_new, val))\n",
    "stacked_new.shape"
   ]
  },
  {
   "cell_type": "code",
   "execution_count": 35,
   "id": "afdf63a8",
   "metadata": {},
   "outputs": [],
   "source": [
    "X_new = stacked_new\n",
    "X_new_file = 'X_new.npy'\n",
    "np.save(X_new_file, X_new)"
   ]
  },
  {
   "cell_type": "code",
   "execution_count": 36,
   "id": "1981b7bd",
   "metadata": {},
   "outputs": [],
   "source": [
    "# Create the test label array\n",
    "labels_test = np.concatenate((np.ones(10)*0, np.ones(10)*1,np.ones(10)*2))\n",
    "\n",
    "y_new = labels_test"
   ]
  },
  {
   "cell_type": "code",
   "execution_count": 37,
   "id": "03185902",
   "metadata": {},
   "outputs": [],
   "source": [
    "y_new_file = 'y_new.npy'\n",
    "np.save(y_new_file, y_new)"
   ]
  },
  {
   "cell_type": "code",
   "execution_count": 39,
   "id": "1ed7b3cc",
   "metadata": {},
   "outputs": [],
   "source": [
    "# Normalize data\n",
    "from sklearn.preprocessing import StandardScaler\n",
    "\n",
    "scaler = StandardScaler()\n",
    "X = scaler.fit_transform(X_new)\n",
    "X_new = scaler.fit_transform(X_new)"
   ]
  },
  {
   "cell_type": "code",
   "execution_count": 43,
   "id": "480ca0db",
   "metadata": {},
   "outputs": [
    {
     "data": {
      "text/plain": [
       "-5.1184060056866185"
      ]
     },
     "execution_count": 43,
     "metadata": {},
     "output_type": "execute_result"
    }
   ],
   "source": [
    "X_new.min()"
   ]
  },
  {
   "cell_type": "markdown",
   "id": "44d01323",
   "metadata": {},
   "source": [
    "#### Create tensors"
   ]
  },
  {
   "cell_type": "code",
   "execution_count": 49,
   "id": "fa41728c",
   "metadata": {},
   "outputs": [],
   "source": [
    "import torch"
   ]
  },
  {
   "cell_type": "code",
   "execution_count": 50,
   "id": "d5b58052",
   "metadata": {},
   "outputs": [],
   "source": [
    "# Turn data into tensors\n",
    "X_tensor = torch.from_numpy(X)\n",
    "X_new_tensor = torch.from_numpy(X_new)"
   ]
  },
  {
   "cell_type": "code",
   "execution_count": 68,
   "id": "90450d96",
   "metadata": {},
   "outputs": [],
   "source": [
    "def minMax(data):\n",
    "    min_value = data.min()\n",
    "    max_value = data.max()\n",
    "\n",
    "    # Apply min-max normalization\n",
    "    normalized_data = (data - min_value) / (max_value - min_value)\n",
    "    return normalized_data"
   ]
  },
  {
   "cell_type": "code",
   "execution_count": 69,
   "id": "39b04548",
   "metadata": {},
   "outputs": [],
   "source": [
    "norm_x = minMax(X_tensor)\n",
    "norm_x_new = minMax(X_new_tensor)"
   ]
  }
 ],
 "metadata": {
  "kernelspec": {
   "display_name": "Python 3 (ipykernel)",
   "language": "python",
   "name": "python3"
  },
  "language_info": {
   "codemirror_mode": {
    "name": "ipython",
    "version": 3
   },
   "file_extension": ".py",
   "mimetype": "text/x-python",
   "name": "python",
   "nbconvert_exporter": "python",
   "pygments_lexer": "ipython3",
   "version": "3.10.12"
  }
 },
 "nbformat": 4,
 "nbformat_minor": 5
}
